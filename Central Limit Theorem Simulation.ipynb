{
 "cells": [
  {
   "cell_type": "markdown",
   "id": "6e2977b1-9f86-4a4d-9de1-ac710c08fcfe",
   "metadata": {},
   "source": [
    "### Practical Approach To Prove Central Limit Theorem.\n",
    "*By Ruturaj Saravane*"
   ]
  },
  {
   "cell_type": "markdown",
   "id": "d478003f-4aee-44b2-bb47-2a4b05d1948d",
   "metadata": {},
   "source": [
    "#### Importing all neccessary libraries"
   ]
  },
  {
   "cell_type": "code",
   "execution_count": 72,
   "id": "46a97d06-ac95-49a4-a0c8-5ed15c8296cd",
   "metadata": {},
   "outputs": [],
   "source": [
    "import numpy as np\n",
    "import matplotlib.pyplot as plt"
   ]
  },
  {
   "cell_type": "markdown",
   "id": "5607ef51-f8d9-46c5-8a61-8cdff2292922",
   "metadata": {},
   "source": [
    "#### We will create a simulation scenario using following method where we can create number of samples and define their sizes.\n",
    " * Case Scenario : Assume a probability event of rolling a fair dice, then our sample space will be {1,2,3,4,5,6}.\n",
    " * Considering this event, we will create an empirical population -- rolling a fair dice N number of times and N will be our population size.\n",
    " * We will select n numbers of sample units from this population for every k numbers of samples.\n",
    " * **Example:** Rolling a fair dice 1000 times (N) will give us an assumed population from which we can randomly select 100 samples (k) with 30 samples units each (n)."
   ]
  },
  {
   "cell_type": "code",
   "execution_count": 75,
   "id": "ba3c2f24-6c1a-4349-8728-779807e51ba3",
   "metadata": {},
   "outputs": [],
   "source": [
    "p_size = 1000  # Population size\n",
    "s_size = 30      # Sample size\n",
    "s_numbers = 100  # Number of samples\n",
    "\n",
    "s_units = np.random.randint(1, 7, p_size)\n",
    "\n",
    "samples = np.random.choice(s_units, (s_numbers, s_size), replace= True)"
   ]
  },
  {
   "cell_type": "markdown",
   "id": "d576782b-b765-4aba-9d51-467bf148a900",
   "metadata": {},
   "source": [
    "#### Checking if the sample means approximate a normal distribution\n",
    " * The next step is to calculate means for each sample.\n",
    " * Then with the help of histogram we will plot all these means and observe the underlyig distribution.\n",
    "\n",
    "**Note : Try changing the above numbers of sample units and sample size to witness CLT in action.**\n",
    " * You can,\n",
    "    - Increase sample size\n",
    "    - Increase sample units\n",
    "    - Increase both simultaneously"
   ]
  },
  {
   "cell_type": "code",
   "execution_count": 78,
   "id": "b2efe7af-61d7-4b98-b282-d082879e0eb6",
   "metadata": {},
   "outputs": [
    {
     "data": {
      "image/png": "[encoded data removed]",
      "text/plain": [
       "<Figure size 640x480 with 1 Axes>"
      ]
     },
     "metadata": {},
     "output_type": "display_data"
    }
   ],
   "source": [
    "means = np.mean(samples, axis=1)\n",
    "\n",
    "plt.hist(means, bins=15)\n",
    "plt.xlabel(\"Sample Means\")\n",
    "plt.ylabel(\"Density\")\n",
    "plt.show()"
   ]
  },
  {
   "cell_type": "markdown",
   "id": "c6d9482d-3a41-4171-909a-86e4f1b8d87c",
   "metadata": {},
   "source": [
    "#### Conclusion :\n",
    "when you take a sufficiently large number of random samples from any population, the distribution of the sample means will approximate a normal distribution, regardless of the original population's distribution."
   ]
  }
 ],
 "metadata": {
  "kernelspec": {
   "display_name": "Python [conda env:base] *",
   "language": "python",
   "name": "conda-base-py"
  },
  "language_info": {
   "codemirror_mode": {
    "name": "ipython",
    "version": 3
   },
   "file_extension": ".py",
   "mimetype": "text/x-python",
   "name": "python",
   "nbconvert_exporter": "python",
   "pygments_lexer": "ipython3",
   "version": "3.12.3"
  }
 },
 "nbformat": 4,
 "nbformat_minor": 5
}
